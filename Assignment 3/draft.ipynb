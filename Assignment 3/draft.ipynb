{
 "cells": [
  {
   "cell_type": "markdown",
   "metadata": {},
   "source": [
    "## Load datasets"
   ]
  },
  {
   "cell_type": "code",
   "execution_count": 29,
   "metadata": {},
   "outputs": [],
   "source": [
    "from sklearn import linear_model\n",
    "from sklearn import preprocessing\n",
    "import pandas as pd\n",
    "\n",
    "#X_train = pd.read_csv('madelon\\madelon_train.data', header = None,\\\n",
    "#                      delimiter = ' ').dropna(axis='columns')\n",
    "#Y_train = pd.read_csv('madelon\\madelon_train.labels', header = None)\n",
    "#\n",
    "#X_valid = pd.read_csv('madelon\\madelon_valid.data', header = None, \\\n",
    "#                      delimiter = ' ').dropna(axis='columns')\n",
    "#Y_valid = pd.read_csv('madelon\\madelon_valid.labels', header = None)\n",
    "\n",
    "\n",
    "\n",
    "X_train = pd.read_csv('gisette\\gisette_train.data', header = None,\\\n",
    "                      delimiter = ' ').dropna(axis='columns')\n",
    "Y_train = pd.read_csv('gisette\\gisette_train.labels', header = None)\n",
    "\n",
    "X_valid = pd.read_csv('gisette\\gisette_valid.data', header = None,\\\n",
    "                      delimiter = ' ').dropna(axis='columns')\n",
    "Y_valid = pd.read_csv('gisette\\gisette_valid.labels', header = None)\n",
    "\n",
    "\n",
    "\n",
    "#X_train = pd.read_csv('hill-valley\\X.dat', header = None,\\\n",
    "#                     delimiter = ' ')\n",
    "#Y_train = pd.read_csv('hill-valley\\Y.dat', header = None)\n",
    "\n",
    "#X_valid = pd.read_csv('hill-valley\\Xtest.dat', header = None,\\\n",
    "#                     delimiter = ' ')\n",
    "#Y_valid = pd.read_csv('hill-valley\\Ytest.dat', header = None)"
   ]
  },
  {
   "cell_type": "code",
   "execution_count": 25,
   "metadata": {},
   "outputs": [
    {
     "name": "stderr",
     "output_type": "stream",
     "text": [
      "C:\\Users\\Jay_Kim\\Anaconda3\\lib\\site-packages\\sklearn\\utils\\validation.py:578: DataConversionWarning: A column-vector y was passed when a 1d array was expected. Please change the shape of y to (n_samples, ), for example using ravel().\n",
      "  y = column_or_1d(y, warn=True)\n"
     ]
    }
   ],
   "source": [
    "m = X_train.shape[0]\n",
    "X = X_train.append(X_valid)\n",
    "X_scaled = preprocessing.scale(X)\n",
    "X_train_scaled = X_scaled[:m]\n",
    "X_valid_scaled = X_scaled[m:]\n",
    "\n",
    "\n",
    "#max_iter between 300 and 1000\n",
    "logreg = linear_model.LogisticRegression(penalty = 'l2', C = 1000, max_iter = 10000)\n",
    "logreg.fit(X_train_scaled, Y_train)\n",
    "x1 = logreg.score(X_train_scaled, Y_train)\n",
    "x2 = logreg.score(X_valid_scaled, Y_valid)"
   ]
  },
  {
   "cell_type": "code",
   "execution_count": 26,
   "metadata": {},
   "outputs": [
    {
     "name": "stdout",
     "output_type": "stream",
     "text": [
      "0.7920792079207921 0.7656765676567657\n"
     ]
    }
   ],
   "source": [
    "print(x1, x2)"
   ]
  },
  {
   "cell_type": "markdown",
   "metadata": {},
   "source": [
    "## Define functions"
   ]
  },
  {
   "cell_type": "code",
   "execution_count": 30,
   "metadata": {},
   "outputs": [],
   "source": [
    "import numpy as np\n",
    "\n",
    "def sigmoid(x):\n",
    "    return 1/(1+np.exp(-x))\n",
    "\n",
    "def costfunction(X, Y, w, lamb):\n",
    "    m = X.shape[0]\n",
    "    z = np.dot(X,w)\n",
    "    h = sigmoid(z)\n",
    "    X = np.array(X)\n",
    "    Y = np.array(Y)\n",
    "    \n",
    "    cost = -1/m * (np.dot(Y.T, np.log(h)) + np.dot((1-Y.T), np.log(1-h)))\\\n",
    "            + lamb/(2*m) * np.dot(w.T, w)\n",
    "    grad =  1/m * (np.dot(X.T, h-Y)) + lamb / m * w\n",
    "\n",
    "    return cost, grad\n",
    "\n",
    "def score(X_train_scaled, X_valid_scaled, Y_train, Y_valid, w):\n",
    "    #get shapes of the train and the validation data sets\n",
    "    (m,   n) = X_train.shape\n",
    "    (m1, n1) = X_valid.shape\n",
    "    \n",
    "    #save prediction of Y\n",
    "    Y_predict_train = np.zeros((m,1))\n",
    "    Y_predict_valid = np.zeros((m1,1))\n",
    "        \n",
    "    # predict Y of the train set and the test set\n",
    "    h_train = sigmoid(np.dot(X_train_scaled, w))\n",
    "    h_valid = sigmoid(np.dot(X_valid_scaled, w))\n",
    "    for j in range(m):\n",
    "        if h_train[j] >= 0.5:\n",
    "            Y_predict_train[j] = 1\n",
    "        else :\n",
    "            Y_predict_train[j] = 0\n",
    "\n",
    "    for j in range(m1):\n",
    "        if h_valid[j] >= 0.5:\n",
    "            Y_predict_valid[j] = 1\n",
    "        else :\n",
    "            Y_predict_valid[j] = 0\n",
    "            \n",
    "            \n",
    "    #calculate prediction scores\n",
    "    Y_score_train = np.zeros((m,1))\n",
    "    Y_score_valid = np.zeros((m1,1))\n",
    "    for j in range(m):\n",
    "        if Y_predict_train[j] == np.array(Y_train)[j]:\n",
    "            Y_score_train[j] = 1\n",
    "        else :\n",
    "            Y_score_train[j] = 0\n",
    "\n",
    "    for j in range(m1):\n",
    "        if Y_predict_valid[j] == np.array(Y_valid)[j]:\n",
    "            Y_score_valid[j] = 1\n",
    "        else :\n",
    "            Y_score_valid[j] = 0\n",
    "    \n",
    "    score_train = np.sum(Y_score_train) / m\n",
    "    score_valid = np.sum(Y_score_valid) / m1\n",
    "\n",
    "    return score_train, score_valid\n",
    "\n",
    "def logistic_regression(X_train, X_valid, Y_train, Y_valid, alpha, lamb, iteration, negetive_value):\n",
    "    #get shapes of the train and the validation data sets\n",
    "    m, n = X_train.shape\n",
    "    \n",
    "    if negetive_value == -1:\n",
    "        Y_train = (Y_train + 1)/2\n",
    "        Y_valid = (Y_valid + 1)/2\n",
    "    \n",
    "    #normalize the train and validation data sets.\n",
    "    X = X_train.append(X_valid)\n",
    "    X_scaled = preprocessing.scale(X)\n",
    "    X_train_scaled = X_scaled[:m]\n",
    "    X_valid_scaled = X_scaled[m:]\n",
    "\n",
    "    #set w0 = 0\n",
    "    w = np.zeros((n,1))\n",
    "    \n",
    "    #save_values\n",
    "    cost_result = np.zeros((iteration,2))\n",
    "    error_result = np.zeros((np.int(iteration/100),3))\n",
    "    \n",
    "    for i in range(iteration):\n",
    "        z = np.dot(X_train_scaled,w)\n",
    "        h = sigmoid(z)\n",
    "    \n",
    "        #calculate cost and graduation and train w\n",
    "        cost, grad = costfunction(X_train_scaled, Y_train, w, lamb)\n",
    "        w = w - alpha * grad\n",
    "    \n",
    "        cost_result[i] = [i+1, cost]\n",
    "    \n",
    "        #calculate error score every 100 iteration\n",
    "        if (i+1) % 100 == 0:\n",
    "            score_train, score_valid = score(X_train_scaled, X_valid_scaled, Y_train, Y_valid, w)\n",
    "            k = np.int(i/100)\n",
    "            error_result[k] = [i+1, 1-score_train, 1-score_valid]\n",
    "        else:\n",
    "            pass\n",
    "    \n",
    "    return cost_result, error_result"
   ]
  },
  {
   "cell_type": "markdown",
   "metadata": {},
   "source": [
    "## Run Logistic Regression"
   ]
  },
  {
   "cell_type": "code",
   "execution_count": 36,
   "metadata": {
    "scrolled": false
   },
   "outputs": [],
   "source": [
    "cost_result, error_result = logistic_regression(X_train, X_valid, Y_train, Y_valid, 0.01, 0.001, 1000, -1)\n",
    "\n",
    "x = pd.DataFrame(data = cost_result, columns = ['iteration', 'cost'])\n",
    "y = pd.DataFrame(data = error_result, columns = ['iteration', 'error_train', 'error_valid'])"
   ]
  },
  {
   "cell_type": "markdown",
   "metadata": {},
   "source": [
    "## Plot the cost function"
   ]
  },
  {
   "cell_type": "code",
   "execution_count": 37,
   "metadata": {
    "scrolled": true
   },
   "outputs": [
    {
     "data": {
      "image/png": "[encoded data removed]",
      "text/plain": [
       "<Figure size 432x288 with 1 Axes>"
      ]
     },
     "metadata": {},
     "output_type": "display_data"
    }
   ],
   "source": [
    "import matplotlib.pyplot as plt\n",
    "\n",
    "# Plot the results\n",
    "plt.plot(x['iteration'], x['cost'], 'r-')\n",
    "plt.xlabel('iteration')\n",
    "plt.ylabel('cost')\n",
    "plt.show()"
   ]
  },
  {
   "cell_type": "markdown",
   "metadata": {},
   "source": [
    "## Plot the error fuction"
   ]
  },
  {
   "cell_type": "code",
   "execution_count": 38,
   "metadata": {
    "scrolled": true
   },
   "outputs": [
    {
     "data": {
      "image/png": "[encoded data removed]",
      "text/plain": [
       "<Figure size 432x288 with 1 Axes>"
      ]
     },
     "metadata": {},
     "output_type": "display_data"
    }
   ],
   "source": [
    "plt.plot(y['iteration'], y['error_train'], 'b-',y['iteration'], y['error_valid'], 'r--')\n",
    "plt.xlabel('iteration')\n",
    "plt.ylabel('error')\n",
    "plt.show()"
   ]
  },
  {
   "cell_type": "code",
   "execution_count": null,
   "metadata": {},
   "outputs": [],
   "source": []
  }
 ],
 "metadata": {
  "kernelspec": {
   "display_name": "Python 3",
   "language": "python",
   "name": "python3"
  },
  "language_info": {
   "codemirror_mode": {
    "name": "ipython",
    "version": 3
   },
   "file_extension": ".py",
   "mimetype": "text/x-python",
   "name": "python",
   "nbconvert_exporter": "python",
   "pygments_lexer": "ipython3",
   "version": "3.6.6"
  }
 },
 "nbformat": 4,
 "nbformat_minor": 2
}
