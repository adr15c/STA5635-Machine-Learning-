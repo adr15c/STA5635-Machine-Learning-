{
 "cells": [
  {
   "cell_type": "markdown",
   "metadata": {},
   "source": [
    "\\hfill Department of Staitistics\n",
    "\n",
    "\\hfill Jaeyeong Kim\n",
    "\n",
    "# $\\sqrt[]{500}$ features\n",
    "## Load the dataset"
   ]
  },
  {
   "cell_type": "code",
   "execution_count": 1,
   "metadata": {
    "scrolled": false
   },
   "outputs": [
    {
     "name": "stderr",
     "output_type": "stream",
     "text": [
      "C:\\Users\\Jay_Kim\\Anaconda3\\lib\\site-packages\\sklearn\\ensemble\\weight_boosting.py:29: DeprecationWarning: numpy.core.umath_tests is an internal NumPy module and should not be imported. It will be removed in a future NumPy release.\n",
      "  from numpy.core.umath_tests import inner1d\n"
     ]
    }
   ],
   "source": [
    "from sklearn import ensemble\n",
    "import pandas as pd\n",
    "import numpy as np\n",
    "import matplotlib.pyplot as plt\n",
    "\n",
    "#This will be used to bold characters\n",
    "class color:\n",
    "   BOLD = '\\033[1m'\n",
    "   END = '\\033[0m'\n",
    "\n",
    "\n",
    "X_train = pd.read_csv('madelon\\madelon_train.data', header = None,\\\n",
    "                      delimiter = ' ').dropna(axis='columns')\n",
    "Y_train = pd.read_csv('madelon\\madelon_train.labels', header = None)\n",
    "\n",
    "\n",
    "X_valid = pd.read_csv('madelon\\madelon_valid.data', header = None, \\\n",
    "                      delimiter = ' ').dropna(axis='columns')\n",
    "Y_valid = pd.read_csv('madelon\\madelon_valid.labels', header = None)"
   ]
  },
  {
   "cell_type": "markdown",
   "metadata": {},
   "source": [
    "## Training the Dataset"
   ]
  },
  {
   "cell_type": "code",
   "execution_count": 2,
   "metadata": {},
   "outputs": [],
   "source": [
    "x = []\n",
    "k = [3, 10, 30, 100, 300]\n",
    "\n",
    "for i in range(300):\n",
    "    if i + 1 in k:\n",
    "        #Train decision tree with max depth = k\n",
    "        rf = ensemble.RandomForestClassifier(n_estimators = i+1, \\\n",
    "                                             max_features = np.int(np.sqrt(500)))  \n",
    "        rf.fit(X_train, Y_train.values.ravel())\n",
    "    \n",
    "        #Calculate decision accuracy score of training dataset and validation dataset\n",
    "        x1 = rf.score(X_train, Y_train)\n",
    "        x2 = rf.score(X_valid, Y_valid)\n",
    "    \n",
    "        #Save the errors\n",
    "        x.append([i+1, 1 - x1, 1 - x2])\n",
    "    else:\n",
    "        continue\n",
    "\n",
    "x = pd.DataFrame(data = x, columns = ['n_trees', 'Train', 'Valid'])"
   ]
  },
  {
   "cell_type": "markdown",
   "metadata": {},
   "source": [
    "## Tree Depth vs Misclassification Errors"
   ]
  },
  {
   "cell_type": "code",
   "execution_count": 3,
   "metadata": {},
   "outputs": [
    {
     "data": {
      "image/png": "[encoded data removed]",
      "text/plain": [
       "<Figure size 432x288 with 1 Axes>"
      ]
     },
     "metadata": {},
     "output_type": "display_data"
    },
    {
     "name": "stdout",
     "output_type": "stream",
     "text": [
      "\u001b[1mN_trees vs Misclassification errors\u001b[0m\n",
      "   n_trees   Train     Valid\n",
      "0        3  0.0805  0.398333\n",
      "1       10  0.0165  0.355000\n",
      "2       30  0.0005  0.313333\n",
      "3      100  0.0000  0.305000\n",
      "4      300  0.0000  0.278333\n"
     ]
    }
   ],
   "source": [
    "# Plot the results\n",
    "plt.plot(x['n_trees'], x['Train'], 'r--', x['n_trees'], x['Valid'])\n",
    "plt.xlabel('n_trees')\n",
    "plt.ylabel('Misclassification errors')\n",
    "plt.legend(('Train', 'Valid'))\n",
    "plt.show()\n",
    "\n",
    "print(color.BOLD + \"N_trees vs Misclassification errors\" + color.END)\n",
    "print(x)"
   ]
  },
  {
   "cell_type": "markdown",
   "metadata": {},
   "source": [
    "# ln(500) features\n",
    "## Train the dataset"
   ]
  },
  {
   "cell_type": "code",
   "execution_count": 4,
   "metadata": {},
   "outputs": [],
   "source": [
    "x = []\n",
    "k = [3, 10, 30, 100, 300]\n",
    "\n",
    "for i in range(300):\n",
    "    if i + 1 in k:\n",
    "        #Train decision tree with max depth = k\n",
    "        rf = ensemble.RandomForestClassifier(n_estimators = i+1, \\\n",
    "                                             max_features = np.int(np.log(500)))  \n",
    "        rf.fit(X_train, Y_train.values.ravel())\n",
    "    \n",
    "        #Calculate decision accuracy score of training dataset and validation dataset\n",
    "        x1 = rf.score(X_train, Y_train)\n",
    "        x2 = rf.score(X_valid, Y_valid)\n",
    "    \n",
    "        #Save the errors\n",
    "        x.append([i+1, 1 - x1, 1 - x2])\n",
    "    else:\n",
    "        continue\n",
    "\n",
    "x = pd.DataFrame(data = x, columns = ['n_trees', 'Train', 'Valid'])"
   ]
  },
  {
   "cell_type": "markdown",
   "metadata": {},
   "source": [
    "## Tree Depth vs Misclassification Errors"
   ]
  },
  {
   "cell_type": "code",
   "execution_count": 5,
   "metadata": {},
   "outputs": [
    {
     "data": {
      "image/png": "[encoded data removed]",
      "text/plain": [
       "<Figure size 432x288 with 1 Axes>"
      ]
     },
     "metadata": {},
     "output_type": "display_data"
    },
    {
     "name": "stdout",
     "output_type": "stream",
     "text": [
      "\u001b[1mN_trees vs Misclassification errors\u001b[0m\n",
      "   n_trees   Train     Valid\n",
      "0        3  0.0925  0.500000\n",
      "1       10  0.0110  0.463333\n",
      "2       30  0.0000  0.405000\n",
      "3      100  0.0000  0.395000\n",
      "4      300  0.0000  0.348333\n"
     ]
    }
   ],
   "source": [
    "# Plot the results\n",
    "plt.plot(x['n_trees'], x['Train'], 'r--', x['n_trees'], x['Valid'])\n",
    "plt.xlabel('n_trees')\n",
    "plt.ylabel('Misclassification errors')\n",
    "plt.legend(('Train', 'Valid'))\n",
    "plt.show()\n",
    "\n",
    "#Error table\n",
    "print(color.BOLD + \"N_trees vs Misclassification errors\" + color.END)\n",
    "print(x)"
   ]
  },
  {
   "cell_type": "markdown",
   "metadata": {},
   "source": [
    "# 500 features\n",
    "## Train the dataset"
   ]
  },
  {
   "cell_type": "code",
   "execution_count": 6,
   "metadata": {},
   "outputs": [],
   "source": [
    "x = []\n",
    "k = [3, 10, 30, 100, 300]\n",
    "\n",
    "for i in range(300):\n",
    "    if i + 1 in k:\n",
    "        #Train decision tree with max depth = k\n",
    "        rf = ensemble.RandomForestClassifier(n_estimators = i+1, \\\n",
    "                                             max_features = 500)  \n",
    "        rf.fit(X_train, Y_train.values.ravel())\n",
    "    \n",
    "        #Calculate decision accuracy score of training dataset and validation dataset\n",
    "        x1 = rf.score(X_train, Y_train)\n",
    "        x2 = rf.score(X_valid, Y_valid)\n",
    "    \n",
    "        #Save the errors\n",
    "        x.append([i+1, 1 - x1, 1 - x2])\n",
    "    else:\n",
    "        continue\n",
    "\n",
    "x = pd.DataFrame(data = x, columns = ['n_trees', 'Train', 'Valid'])"
   ]
  },
  {
   "cell_type": "markdown",
   "metadata": {},
   "source": [
    "## Tree Depth vs Misclassification Errors"
   ]
  },
  {
   "cell_type": "code",
   "execution_count": 7,
   "metadata": {},
   "outputs": [
    {
     "data": {
      "image/png": "[encoded data removed]",
      "text/plain": [
       "<Figure size 432x288 with 1 Axes>"
      ]
     },
     "metadata": {},
     "output_type": "display_data"
    },
    {
     "name": "stdout",
     "output_type": "stream",
     "text": [
      "\u001b[1mN_trees vs Misclassification errors\u001b[0m\n",
      "   n_trees   Train     Valid\n",
      "0        3  0.0435  0.251667\n",
      "1       10  0.0100  0.220000\n",
      "2       30  0.0015  0.165000\n",
      "3      100  0.0000  0.151667\n",
      "4      300  0.0000  0.155000\n"
     ]
    }
   ],
   "source": [
    "# Plot the results\n",
    "plt.plot(x['n_trees'], x['Train'], 'r--', x['n_trees'], x['Valid'])\n",
    "plt.xlabel('n_trees')\n",
    "plt.ylabel('Misclassification errors')\n",
    "plt.legend(('Train', 'Valid'))\n",
    "plt.show()\n",
    "\n",
    "#Error table\n",
    "print(color.BOLD + \"N_trees vs Misclassification errors\" + color.END)\n",
    "print(x)"
   ]
  }
 ],
 "metadata": {
  "kernelspec": {
   "display_name": "Python 3",
   "language": "python",
   "name": "python3"
  },
  "language_info": {
   "codemirror_mode": {
    "name": "ipython",
    "version": 3
   },
   "file_extension": ".py",
   "mimetype": "text/x-python",
   "name": "python",
   "nbconvert_exporter": "python",
   "pygments_lexer": "ipython3",
   "version": "3.6.6"
  }
 },
 "nbformat": 4,
 "nbformat_minor": 2
}
