{
 "cells": [
  {
   "cell_type": "markdown",
   "metadata": {},
   "source": [
    "\\hfill Department of Statistics\n",
    "\n",
    "\\hfill Jaeyeong Kim, Alex Ruiz\n",
    "\n",
    "## Define Functions"
   ]
  },
  {
   "cell_type": "code",
   "execution_count": 1,
   "metadata": {},
   "outputs": [],
   "source": [
    "import numpy as np\n",
    "\n",
    "def sigmoid(x):\n",
    "    return 1/(1+np.exp(-x))\n",
    "\n",
    "def costfunction(X, Y, w, lamb):\n",
    "    m = X.shape[0]\n",
    "    z = np.dot(X,w)\n",
    "    h = sigmoid(z)\n",
    "    X = np.array(X)\n",
    "    Y = np.array(Y)\n",
    "    \n",
    "    cost = -1/m * (np.dot(Y.T, np.log(h)) + np.dot((1-Y.T), np.log(1-h)))\\\n",
    "            + lamb/(2*m) * np.dot(w.T, w)\n",
    "    grad =  1/m * (np.dot(X.T, h-Y)) + lamb / m * w\n",
    "\n",
    "    return cost, grad\n",
    "\n",
    "def score(X_train_scaled, X_valid_scaled, Y_train, Y_valid, w):\n",
    "    #get shapes of the train and the validation data sets\n",
    "    (m,   n) = X_train.shape\n",
    "    (m1, n1) = X_valid.shape\n",
    "    \n",
    "    #save prediction of Y\n",
    "    Y_predict_train = np.zeros((m,1))\n",
    "    Y_predict_valid = np.zeros((m1,1))\n",
    "        \n",
    "    # predict Y of the train set and the test set\n",
    "    h_train = sigmoid(np.dot(X_train_scaled, w))\n",
    "    h_valid = sigmoid(np.dot(X_valid_scaled, w))\n",
    "    for j in range(m):\n",
    "        if h_train[j] >= 0.5:\n",
    "            Y_predict_train[j] = 1\n",
    "        else :\n",
    "            Y_predict_train[j] = 0\n",
    "\n",
    "    for j in range(m1):\n",
    "        if h_valid[j] >= 0.5:\n",
    "            Y_predict_valid[j] = 1\n",
    "        else :\n",
    "            Y_predict_valid[j] = 0\n",
    "            \n",
    "            \n",
    "    #calculate prediction scores\n",
    "    Y_score_train = np.zeros((m,1))\n",
    "    Y_score_valid = np.zeros((m1,1))\n",
    "    for j in range(m):\n",
    "        if Y_predict_train[j] == np.array(Y_train)[j]:\n",
    "            Y_score_train[j] = 1\n",
    "        else :\n",
    "            Y_score_train[j] = 0\n",
    "\n",
    "    for j in range(m1):\n",
    "        if Y_predict_valid[j] == np.array(Y_valid)[j]:\n",
    "            Y_score_valid[j] = 1\n",
    "        else :\n",
    "            Y_score_valid[j] = 0\n",
    "    \n",
    "    score_train = np.sum(Y_score_train) / m\n",
    "    score_valid = np.sum(Y_score_valid) / m1\n",
    "\n",
    "    return score_train, score_valid\n",
    "\n",
    "def logistic_regression(X_train, X_valid, Y_train, Y_valid, alpha, lamb, iteration, negetive_value):\n",
    "    #get shapes of the train and the validation data sets\n",
    "    m, n = X_train.shape\n",
    "    \n",
    "    if negetive_value == -1:\n",
    "        Y_train = (Y_train + 1)/2\n",
    "        Y_valid = (Y_valid + 1)/2\n",
    "    \n",
    "    #normalize the train and validation data sets.\n",
    "    X = X_train.append(X_valid)\n",
    "    X_scaled = preprocessing.scale(X)\n",
    "    X_train_scaled = X_scaled[:m]\n",
    "    X_valid_scaled = X_scaled[m:]\n",
    "\n",
    "    #set w0 = 0\n",
    "    w = np.zeros((n,1))\n",
    "    \n",
    "    #save_values\n",
    "    cost_result = np.zeros((iteration,2))\n",
    "    error_result = np.zeros((np.int(iteration/100),3))\n",
    "    \n",
    "    for i in range(iteration):\n",
    "        z = np.dot(X_train_scaled,w)\n",
    "        h = sigmoid(z)\n",
    "    \n",
    "        #calculate cost and graduation and train w\n",
    "        cost, grad = costfunction(X_train_scaled, Y_train, w, lamb)\n",
    "        w = w - alpha * grad\n",
    "    \n",
    "        cost_result[i] = [i+1, cost]\n",
    "    \n",
    "        #calculate error score every 100 iteration\n",
    "        if (i+1) % 100 == 0:\n",
    "            score_train, score_valid = score(X_train_scaled, X_valid_scaled, Y_train, Y_valid, w)\n",
    "            k = np.int(i/100)\n",
    "            error_result[k] = [i+1, 1-score_train, 1-score_valid]\n",
    "        else:\n",
    "            pass\n",
    "    \n",
    "    return cost_result, error_result"
   ]
  },
  {
   "cell_type": "markdown",
   "metadata": {},
   "source": [
    "# PART (A) - gisette"
   ]
  },
  {
   "cell_type": "code",
   "execution_count": null,
   "metadata": {
    "scrolled": true
   },
   "outputs": [],
   "source": [
    "from sklearn import linear_model\n",
    "from sklearn import preprocessing\n",
    "import pandas as pd\n",
    "\n",
    "# Reading in the GISETTE data set\n",
    "X_train = pd.read_csv('gisette_train.data', header = None,\\\n",
    "                      delimiter = ' ').dropna(axis='columns')\n",
    "Y_train = pd.read_csv('gisette_train.labels', header = None)\n",
    "\n",
    "X_valid = pd.read_csv('gisette_valid.data', header = None, \\\n",
    "                      delimiter = ' ').dropna(axis='columns')\n",
    "Y_valid = pd.read_csv('gisette_valid.labels', header = None)\n",
    "\n",
    "# Run logistic regression\n",
    "cost_result, error_result = logistic_regression(X_train, X_valid, Y_train, Y_valid, 0.003, 0.001, 1000, -1)\n",
    "\n",
    "x = pd.DataFrame(data = cost_result, columns = ['iteration', 'cost'])\n",
    "y = pd.DataFrame(data = error_result, columns = ['iteration', 'error_train', 'error_valid'])"
   ]
  },
  {
   "cell_type": "markdown",
   "metadata": {},
   "source": [
    "## Plot the cost function"
   ]
  },
  {
   "cell_type": "code",
   "execution_count": 17,
   "metadata": {},
   "outputs": [
    {
     "data": {
      "image/png": "[encoded data removed]",
      "text/plain": [
       "<Figure size 432x288 with 1 Axes>"
      ]
     },
     "metadata": {},
     "output_type": "display_data"
    }
   ],
   "source": [
    "import matplotlib.pyplot as plt\n",
    "\n",
    "# Plot the results\n",
    "plt.plot(x['iteration'], x['cost'], 'r-')\n",
    "plt.xlabel('iteration')\n",
    "plt.ylabel('cost')\n",
    "plt.show()"
   ]
  },
  {
   "cell_type": "markdown",
   "metadata": {},
   "source": [
    "We noticed that a small learning rate did not allow the function to converge. We also noticed that while a larger learning rate did monotonically decrease, it learned too quickly. This is why we chose 0.03 as the learning rate."
   ]
  },
  {
   "cell_type": "markdown",
   "metadata": {},
   "source": [
    "## Plot the error fuction"
   ]
  },
  {
   "cell_type": "code",
   "execution_count": 16,
   "metadata": {
    "scrolled": false
   },
   "outputs": [
    {
     "data": {
      "image/png": "[encoded data removed]",
      "text/plain": [
       "<Figure size 432x288 with 1 Axes>"
      ]
     },
     "metadata": {},
     "output_type": "display_data"
    }
   ],
   "source": [
    "plt.plot(y['iteration'], y['error_train'], 'b-',y['iteration'], y['error_valid'], 'r--')\n",
    "plt.xlabel('iteration')\n",
    "plt.ylabel('error')\n",
    "plt.show()"
   ]
  },
  {
   "cell_type": "markdown",
   "metadata": {},
   "source": [
    "# Part (B) - madelon"
   ]
  },
  {
   "cell_type": "code",
   "execution_count": 5,
   "metadata": {},
   "outputs": [],
   "source": [
    "# Reading in the MADELON data set\n",
    "X_train = pd.read_csv('X_madelon_train.txt', header = None,\\\n",
    "                      delimiter = ' ').dropna(axis='columns')\n",
    "Y_train = pd.read_csv('Y_madelon_train.txt', header = None)\n",
    "\n",
    "X_valid = pd.read_csv('X_madelon_valid.txt', header = None, \\\n",
    "                      delimiter = ' ').dropna(axis='columns')\n",
    "Y_valid = pd.read_csv('Y_madelon_valid.txt', header = None)\n",
    "\n",
    "\n",
    "# Run logistic regression\n",
    "cost_result, error_result = logistic_regression(X_train, X_valid, Y_train, Y_valid, 0.03, 0.001, 1000, -1)\n",
    "\n",
    "x = pd.DataFrame(data = cost_result, columns = ['iteration', 'cost'])\n",
    "y = pd.DataFrame(data = error_result, columns = ['iteration', 'error_train', 'error_valid'])"
   ]
  },
  {
   "cell_type": "markdown",
   "metadata": {},
   "source": [
    "## Plot the cost function"
   ]
  },
  {
   "cell_type": "code",
   "execution_count": 6,
   "metadata": {},
   "outputs": [
    {
     "data": {
      "image/png": "[encoded data removed]",
      "text/plain": [
       "<Figure size 432x288 with 1 Axes>"
      ]
     },
     "metadata": {},
     "output_type": "display_data"
    }
   ],
   "source": [
    "import matplotlib.pyplot as plt\n",
    "\n",
    "# Plot the results\n",
    "plt.plot(x['iteration'], x['cost'], 'r-')\n",
    "plt.xlabel('iteration')\n",
    "plt.ylabel('cost')\n",
    "plt.show()"
   ]
  },
  {
   "cell_type": "markdown",
   "metadata": {},
   "source": [
    "We noticed that a small learning rate did not allow the function to converge. We also noticed that while a larger learning rate did monotonically decrease, it learned too quickly. This is why we chose 0.03 as the learning rate."
   ]
  },
  {
   "cell_type": "markdown",
   "metadata": {},
   "source": [
    "## Plot the error fuction"
   ]
  },
  {
   "cell_type": "code",
   "execution_count": 7,
   "metadata": {},
   "outputs": [
    {
     "data": {
      "image/png": "[encoded data removed]",
      "text/plain": [
       "<Figure size 432x288 with 1 Axes>"
      ]
     },
     "metadata": {},
     "output_type": "display_data"
    },
    {
     "name": "stdout",
     "output_type": "stream",
     "text": [
      "   iteration  error_train  error_valid\n",
      "0      100.0       0.3130     0.425000\n",
      "1      200.0       0.3005     0.425000\n",
      "2      300.0       0.2840     0.416667\n",
      "3      400.0       0.2765     0.423333\n",
      "4      500.0       0.2740     0.428333\n",
      "5      600.0       0.2735     0.430000\n",
      "6      700.0       0.2740     0.431667\n",
      "7      800.0       0.2745     0.430000\n",
      "8      900.0       0.2720     0.431667\n",
      "9     1000.0       0.2695     0.435000\n"
     ]
    }
   ],
   "source": [
    "plt.plot(y['iteration'], y['error_train'], 'b-',y['iteration'], y['error_valid'], 'r--')\n",
    "plt.xlabel('iteration')\n",
    "plt.ylabel('error')\n",
    "plt.show()\n",
    "\n",
    "print(y)"
   ]
  },
  {
   "cell_type": "markdown",
   "metadata": {},
   "source": [
    "# PART (C) - hill-valley"
   ]
  },
  {
   "cell_type": "code",
   "execution_count": 12,
   "metadata": {},
   "outputs": [],
   "source": [
    "# Reading in the HILLS data set\n",
    "X_train = pd.read_csv('X.dat', header = None,\\\n",
    "                     delimiter = ' ')\n",
    "Y_train = pd.read_csv('Y.dat', header = None)\n",
    "\n",
    "X_valid = pd.read_csv('Xtest.dat', header = None,\\\n",
    "                    delimiter = ' ')\n",
    "Y_valid = pd.read_csv('Ytest.dat', header = None)\n",
    "\n",
    "\n",
    "cost_result, error_result = logistic_regression(X_train, X_valid, Y_train, Y_valid, 0.08, 0.001, 10000, 0)\n",
    "\n",
    "x = pd.DataFrame(data = cost_result, columns = ['iteration', 'cost'])\n",
    "y = pd.DataFrame(data = error_result, columns = ['iteration', 'error_train', 'error_valid'])"
   ]
  },
  {
   "cell_type": "markdown",
   "metadata": {},
   "source": [
    "## Plot the cost function"
   ]
  },
  {
   "cell_type": "code",
   "execution_count": 13,
   "metadata": {},
   "outputs": [
    {
     "data": {
      "image/png": "[encoded data removed]",
      "text/plain": [
       "<Figure size 432x288 with 1 Axes>"
      ]
     },
     "metadata": {},
     "output_type": "display_data"
    }
   ],
   "source": [
    "import matplotlib.pyplot as plt\n",
    "\n",
    "# Plot the results\n",
    "plt.plot(x['iteration'], x['cost'], 'r-')\n",
    "plt.xlabel('iteration')\n",
    "plt.ylabel('cost')\n",
    "plt.show()"
   ]
  },
  {
   "cell_type": "markdown",
   "metadata": {},
   "source": [
    "With a small learning rate the cost function doesn't converge and with a large learning rate it doesn't monotonically decrease; this is why we chose 0.08 as the learning rate."
   ]
  },
  {
   "cell_type": "markdown",
   "metadata": {},
   "source": [
    "## Plot the error fuction"
   ]
  },
  {
   "cell_type": "code",
   "execution_count": 14,
   "metadata": {},
   "outputs": [
    {
     "data": {
      "image/png": "[encoded data removed]",
      "text/plain": [
       "<Figure size 432x288 with 1 Axes>"
      ]
     },
     "metadata": {},
     "output_type": "display_data"
    }
   ],
   "source": [
    "plt.plot(y['iteration'], y['error_train'], 'b-',y['iteration'], y['error_valid'], 'r--')\n",
    "plt.xlabel('iteration')\n",
    "plt.ylabel('error')\n",
    "plt.show()"
   ]
  }
 ],
 "metadata": {
  "kernelspec": {
   "display_name": "Python 3",
   "language": "python",
   "name": "python3"
  },
  "language_info": {
   "codemirror_mode": {
    "name": "ipython",
    "version": 3
   },
   "file_extension": ".py",
   "mimetype": "text/x-python",
   "name": "python",
   "nbconvert_exporter": "python",
   "pygments_lexer": "ipython3",
   "version": "3.6.5"
  }
 },
 "nbformat": 4,
 "nbformat_minor": 2
}
